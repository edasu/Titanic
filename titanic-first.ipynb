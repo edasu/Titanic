{
 "cells": [
  {
   "cell_type": "code",
   "execution_count": 1,
   "id": "d20f6a90",
   "metadata": {
    "_cell_guid": "b1076dfc-b9ad-4769-8c92-a6c4dae69d19",
    "_uuid": "8f2839f25d086af736a60e9eeb907d3b93b6e0e5",
    "execution": {
     "iopub.execute_input": "2021-12-31T16:16:59.168259Z",
     "iopub.status.busy": "2021-12-31T16:16:59.167153Z",
     "iopub.status.idle": "2021-12-31T16:16:59.182271Z",
     "shell.execute_reply": "2021-12-31T16:16:59.182780Z",
     "shell.execute_reply.started": "2021-12-31T15:57:06.174302Z"
    },
    "papermill": {
     "duration": 0.03986,
     "end_time": "2021-12-31T16:16:59.183086",
     "exception": false,
     "start_time": "2021-12-31T16:16:59.143226",
     "status": "completed"
    },
    "tags": []
   },
   "outputs": [
    {
     "name": "stdout",
     "output_type": "stream",
     "text": [
      "/kaggle/input/titanic/train.csv\n",
      "/kaggle/input/titanic/test.csv\n",
      "/kaggle/input/titanic/gender_submission.csv\n"
     ]
    }
   ],
   "source": [
    "# This Python 3 environment comes with many helpful analytics libraries installed\n",
    "# It is defined by the kaggle/python Docker image: https://github.com/kaggle/docker-python\n",
    "# For example, here's several helpful packages to load\n",
    "\n",
    "import numpy as np # linear algebra\n",
    "import pandas as pd # data processing, CSV file I/O (e.g. pd.read_csv)\n",
    "\n",
    "# Input data files are available in the read-only \"../input/\" directory\n",
    "# For example, running this (by clicking run or pressing Shift+Enter) will list all files under the input directory\n",
    "\n",
    "import os\n",
    "for dirname, _, filenames in os.walk('/kaggle/input'):\n",
    "    for filename in filenames:\n",
    "        print(os.path.join(dirname, filename))\n",
    "\n",
    "# You can write up to 20GB to the current directory (/kaggle/working/) that gets preserved as output when you create a version using \"Save & Run All\" \n",
    "# You can also write temporary files to /kaggle/temp/, but they won't be saved outside of the current session"
   ]
  },
  {
   "cell_type": "code",
   "execution_count": 2,
   "id": "53e21dfe",
   "metadata": {
    "execution": {
     "iopub.execute_input": "2021-12-31T16:16:59.229882Z",
     "iopub.status.busy": "2021-12-31T16:16:59.229051Z",
     "iopub.status.idle": "2021-12-31T16:16:59.276533Z",
     "shell.execute_reply": "2021-12-31T16:16:59.277037Z",
     "shell.execute_reply.started": "2021-12-31T15:57:06.188637Z"
    },
    "papermill": {
     "duration": 0.072945,
     "end_time": "2021-12-31T16:16:59.277213",
     "exception": false,
     "start_time": "2021-12-31T16:16:59.204268",
     "status": "completed"
    },
    "tags": []
   },
   "outputs": [
    {
     "data": {
      "text/html": [
       "<div>\n",
       "<style scoped>\n",
       "    .dataframe tbody tr th:only-of-type {\n",
       "        vertical-align: middle;\n",
       "    }\n",
       "\n",
       "    .dataframe tbody tr th {\n",
       "        vertical-align: top;\n",
       "    }\n",
       "\n",
       "    .dataframe thead th {\n",
       "        text-align: right;\n",
       "    }\n",
       "</style>\n",
       "<table border=\"1\" class=\"dataframe\">\n",
       "  <thead>\n",
       "    <tr style=\"text-align: right;\">\n",
       "      <th></th>\n",
       "      <th>PassengerId</th>\n",
       "      <th>Pclass</th>\n",
       "      <th>Name</th>\n",
       "      <th>Sex</th>\n",
       "      <th>Age</th>\n",
       "      <th>SibSp</th>\n",
       "      <th>Parch</th>\n",
       "      <th>Ticket</th>\n",
       "      <th>Fare</th>\n",
       "      <th>Cabin</th>\n",
       "      <th>Embarked</th>\n",
       "    </tr>\n",
       "  </thead>\n",
       "  <tbody>\n",
       "    <tr>\n",
       "      <th>0</th>\n",
       "      <td>892</td>\n",
       "      <td>3</td>\n",
       "      <td>Kelly, Mr. James</td>\n",
       "      <td>male</td>\n",
       "      <td>34.5</td>\n",
       "      <td>0</td>\n",
       "      <td>0</td>\n",
       "      <td>330911</td>\n",
       "      <td>7.8292</td>\n",
       "      <td>NaN</td>\n",
       "      <td>Q</td>\n",
       "    </tr>\n",
       "    <tr>\n",
       "      <th>1</th>\n",
       "      <td>893</td>\n",
       "      <td>3</td>\n",
       "      <td>Wilkes, Mrs. James (Ellen Needs)</td>\n",
       "      <td>female</td>\n",
       "      <td>47.0</td>\n",
       "      <td>1</td>\n",
       "      <td>0</td>\n",
       "      <td>363272</td>\n",
       "      <td>7.0000</td>\n",
       "      <td>NaN</td>\n",
       "      <td>S</td>\n",
       "    </tr>\n",
       "    <tr>\n",
       "      <th>2</th>\n",
       "      <td>894</td>\n",
       "      <td>2</td>\n",
       "      <td>Myles, Mr. Thomas Francis</td>\n",
       "      <td>male</td>\n",
       "      <td>62.0</td>\n",
       "      <td>0</td>\n",
       "      <td>0</td>\n",
       "      <td>240276</td>\n",
       "      <td>9.6875</td>\n",
       "      <td>NaN</td>\n",
       "      <td>Q</td>\n",
       "    </tr>\n",
       "    <tr>\n",
       "      <th>3</th>\n",
       "      <td>895</td>\n",
       "      <td>3</td>\n",
       "      <td>Wirz, Mr. Albert</td>\n",
       "      <td>male</td>\n",
       "      <td>27.0</td>\n",
       "      <td>0</td>\n",
       "      <td>0</td>\n",
       "      <td>315154</td>\n",
       "      <td>8.6625</td>\n",
       "      <td>NaN</td>\n",
       "      <td>S</td>\n",
       "    </tr>\n",
       "    <tr>\n",
       "      <th>4</th>\n",
       "      <td>896</td>\n",
       "      <td>3</td>\n",
       "      <td>Hirvonen, Mrs. Alexander (Helga E Lindqvist)</td>\n",
       "      <td>female</td>\n",
       "      <td>22.0</td>\n",
       "      <td>1</td>\n",
       "      <td>1</td>\n",
       "      <td>3101298</td>\n",
       "      <td>12.2875</td>\n",
       "      <td>NaN</td>\n",
       "      <td>S</td>\n",
       "    </tr>\n",
       "  </tbody>\n",
       "</table>\n",
       "</div>"
      ],
      "text/plain": [
       "   PassengerId  Pclass                                          Name     Sex  \\\n",
       "0          892       3                              Kelly, Mr. James    male   \n",
       "1          893       3              Wilkes, Mrs. James (Ellen Needs)  female   \n",
       "2          894       2                     Myles, Mr. Thomas Francis    male   \n",
       "3          895       3                              Wirz, Mr. Albert    male   \n",
       "4          896       3  Hirvonen, Mrs. Alexander (Helga E Lindqvist)  female   \n",
       "\n",
       "    Age  SibSp  Parch   Ticket     Fare Cabin Embarked  \n",
       "0  34.5      0      0   330911   7.8292   NaN        Q  \n",
       "1  47.0      1      0   363272   7.0000   NaN        S  \n",
       "2  62.0      0      0   240276   9.6875   NaN        Q  \n",
       "3  27.0      0      0   315154   8.6625   NaN        S  \n",
       "4  22.0      1      1  3101298  12.2875   NaN        S  "
      ]
     },
     "execution_count": 2,
     "metadata": {},
     "output_type": "execute_result"
    }
   ],
   "source": [
    "df_train = pd.read_csv('../input/titanic/train.csv')\n",
    "df_test = pd.read_csv('../input/titanic/test.csv')\n",
    "#data = df_train.append(df_test)\n",
    "df_test.head()"
   ]
  },
  {
   "cell_type": "code",
   "execution_count": 3,
   "id": "c5a4d3fb",
   "metadata": {
    "execution": {
     "iopub.execute_input": "2021-12-31T16:16:59.320901Z",
     "iopub.status.busy": "2021-12-31T16:16:59.320289Z",
     "iopub.status.idle": "2021-12-31T16:16:59.326582Z",
     "shell.execute_reply": "2021-12-31T16:16:59.327038Z",
     "shell.execute_reply.started": "2021-12-31T15:57:06.250289Z"
    },
    "papermill": {
     "duration": 0.029581,
     "end_time": "2021-12-31T16:16:59.327209",
     "exception": false,
     "start_time": "2021-12-31T16:16:59.297628",
     "status": "completed"
    },
    "tags": []
   },
   "outputs": [
    {
     "data": {
      "text/plain": [
       "PassengerId      int64\n",
       "Survived         int64\n",
       "Pclass           int64\n",
       "Name            object\n",
       "Sex             object\n",
       "Age            float64\n",
       "SibSp            int64\n",
       "Parch            int64\n",
       "Ticket          object\n",
       "Fare           float64\n",
       "Cabin           object\n",
       "Embarked        object\n",
       "dtype: object"
      ]
     },
     "execution_count": 3,
     "metadata": {},
     "output_type": "execute_result"
    }
   ],
   "source": [
    "df_train.dtypes"
   ]
  },
  {
   "cell_type": "code",
   "execution_count": 4,
   "id": "b57543f9",
   "metadata": {
    "execution": {
     "iopub.execute_input": "2021-12-31T16:16:59.379620Z",
     "iopub.status.busy": "2021-12-31T16:16:59.379050Z",
     "iopub.status.idle": "2021-12-31T16:16:59.409714Z",
     "shell.execute_reply": "2021-12-31T16:16:59.410348Z",
     "shell.execute_reply.started": "2021-12-31T15:57:06.261745Z"
    },
    "papermill": {
     "duration": 0.062252,
     "end_time": "2021-12-31T16:16:59.410515",
     "exception": false,
     "start_time": "2021-12-31T16:16:59.348263",
     "status": "completed"
    },
    "tags": []
   },
   "outputs": [
    {
     "data": {
      "text/html": [
       "<div>\n",
       "<style scoped>\n",
       "    .dataframe tbody tr th:only-of-type {\n",
       "        vertical-align: middle;\n",
       "    }\n",
       "\n",
       "    .dataframe tbody tr th {\n",
       "        vertical-align: top;\n",
       "    }\n",
       "\n",
       "    .dataframe thead th {\n",
       "        text-align: right;\n",
       "    }\n",
       "</style>\n",
       "<table border=\"1\" class=\"dataframe\">\n",
       "  <thead>\n",
       "    <tr style=\"text-align: right;\">\n",
       "      <th></th>\n",
       "      <th>PassengerId</th>\n",
       "      <th>Survived</th>\n",
       "      <th>Pclass</th>\n",
       "      <th>Age</th>\n",
       "      <th>SibSp</th>\n",
       "      <th>Parch</th>\n",
       "      <th>Fare</th>\n",
       "    </tr>\n",
       "  </thead>\n",
       "  <tbody>\n",
       "    <tr>\n",
       "      <th>count</th>\n",
       "      <td>891.000000</td>\n",
       "      <td>891.000000</td>\n",
       "      <td>891.000000</td>\n",
       "      <td>714.000000</td>\n",
       "      <td>891.000000</td>\n",
       "      <td>891.000000</td>\n",
       "      <td>891.000000</td>\n",
       "    </tr>\n",
       "    <tr>\n",
       "      <th>mean</th>\n",
       "      <td>446.000000</td>\n",
       "      <td>0.383838</td>\n",
       "      <td>2.308642</td>\n",
       "      <td>29.699118</td>\n",
       "      <td>0.523008</td>\n",
       "      <td>0.381594</td>\n",
       "      <td>32.204208</td>\n",
       "    </tr>\n",
       "    <tr>\n",
       "      <th>std</th>\n",
       "      <td>257.353842</td>\n",
       "      <td>0.486592</td>\n",
       "      <td>0.836071</td>\n",
       "      <td>14.526497</td>\n",
       "      <td>1.102743</td>\n",
       "      <td>0.806057</td>\n",
       "      <td>49.693429</td>\n",
       "    </tr>\n",
       "    <tr>\n",
       "      <th>min</th>\n",
       "      <td>1.000000</td>\n",
       "      <td>0.000000</td>\n",
       "      <td>1.000000</td>\n",
       "      <td>0.420000</td>\n",
       "      <td>0.000000</td>\n",
       "      <td>0.000000</td>\n",
       "      <td>0.000000</td>\n",
       "    </tr>\n",
       "    <tr>\n",
       "      <th>25%</th>\n",
       "      <td>223.500000</td>\n",
       "      <td>0.000000</td>\n",
       "      <td>2.000000</td>\n",
       "      <td>20.125000</td>\n",
       "      <td>0.000000</td>\n",
       "      <td>0.000000</td>\n",
       "      <td>7.910400</td>\n",
       "    </tr>\n",
       "    <tr>\n",
       "      <th>50%</th>\n",
       "      <td>446.000000</td>\n",
       "      <td>0.000000</td>\n",
       "      <td>3.000000</td>\n",
       "      <td>28.000000</td>\n",
       "      <td>0.000000</td>\n",
       "      <td>0.000000</td>\n",
       "      <td>14.454200</td>\n",
       "    </tr>\n",
       "    <tr>\n",
       "      <th>75%</th>\n",
       "      <td>668.500000</td>\n",
       "      <td>1.000000</td>\n",
       "      <td>3.000000</td>\n",
       "      <td>38.000000</td>\n",
       "      <td>1.000000</td>\n",
       "      <td>0.000000</td>\n",
       "      <td>31.000000</td>\n",
       "    </tr>\n",
       "    <tr>\n",
       "      <th>max</th>\n",
       "      <td>891.000000</td>\n",
       "      <td>1.000000</td>\n",
       "      <td>3.000000</td>\n",
       "      <td>80.000000</td>\n",
       "      <td>8.000000</td>\n",
       "      <td>6.000000</td>\n",
       "      <td>512.329200</td>\n",
       "    </tr>\n",
       "  </tbody>\n",
       "</table>\n",
       "</div>"
      ],
      "text/plain": [
       "       PassengerId    Survived      Pclass         Age       SibSp  \\\n",
       "count   891.000000  891.000000  891.000000  714.000000  891.000000   \n",
       "mean    446.000000    0.383838    2.308642   29.699118    0.523008   \n",
       "std     257.353842    0.486592    0.836071   14.526497    1.102743   \n",
       "min       1.000000    0.000000    1.000000    0.420000    0.000000   \n",
       "25%     223.500000    0.000000    2.000000   20.125000    0.000000   \n",
       "50%     446.000000    0.000000    3.000000   28.000000    0.000000   \n",
       "75%     668.500000    1.000000    3.000000   38.000000    1.000000   \n",
       "max     891.000000    1.000000    3.000000   80.000000    8.000000   \n",
       "\n",
       "            Parch        Fare  \n",
       "count  891.000000  891.000000  \n",
       "mean     0.381594   32.204208  \n",
       "std      0.806057   49.693429  \n",
       "min      0.000000    0.000000  \n",
       "25%      0.000000    7.910400  \n",
       "50%      0.000000   14.454200  \n",
       "75%      0.000000   31.000000  \n",
       "max      6.000000  512.329200  "
      ]
     },
     "execution_count": 4,
     "metadata": {},
     "output_type": "execute_result"
    }
   ],
   "source": [
    "df_train.describe()"
   ]
  },
  {
   "cell_type": "code",
   "execution_count": 5,
   "id": "80aabe3c",
   "metadata": {
    "execution": {
     "iopub.execute_input": "2021-12-31T16:16:59.456041Z",
     "iopub.status.busy": "2021-12-31T16:16:59.455417Z",
     "iopub.status.idle": "2021-12-31T16:16:59.463766Z",
     "shell.execute_reply": "2021-12-31T16:16:59.463176Z",
     "shell.execute_reply.started": "2021-12-31T15:57:06.318473Z"
    },
    "papermill": {
     "duration": 0.033189,
     "end_time": "2021-12-31T16:16:59.463906",
     "exception": false,
     "start_time": "2021-12-31T16:16:59.430717",
     "status": "completed"
    },
    "tags": []
   },
   "outputs": [
    {
     "data": {
      "text/plain": [
       "PassengerId      0\n",
       "Pclass           0\n",
       "Name             0\n",
       "Sex              0\n",
       "Age             86\n",
       "SibSp            0\n",
       "Parch            0\n",
       "Ticket           0\n",
       "Fare             1\n",
       "Cabin          327\n",
       "Embarked         0\n",
       "dtype: int64"
      ]
     },
     "execution_count": 5,
     "metadata": {},
     "output_type": "execute_result"
    }
   ],
   "source": [
    "df_test.isnull().sum()"
   ]
  },
  {
   "cell_type": "code",
   "execution_count": 6,
   "id": "f96a761b",
   "metadata": {
    "execution": {
     "iopub.execute_input": "2021-12-31T16:16:59.512562Z",
     "iopub.status.busy": "2021-12-31T16:16:59.511848Z",
     "iopub.status.idle": "2021-12-31T16:17:00.780158Z",
     "shell.execute_reply": "2021-12-31T16:17:00.780614Z",
     "shell.execute_reply.started": "2021-12-31T15:57:30.282432Z"
    },
    "papermill": {
     "duration": 1.29533,
     "end_time": "2021-12-31T16:17:00.780784",
     "exception": false,
     "start_time": "2021-12-31T16:16:59.485454",
     "status": "completed"
    },
    "tags": []
   },
   "outputs": [
    {
     "data": {
      "text/plain": [
       "<AxesSubplot:xlabel='Sex', ylabel='count'>"
      ]
     },
     "execution_count": 6,
     "metadata": {},
     "output_type": "execute_result"
    },
    {
     "data": {
      "image/png": "[encoded data removed]",
      "text/plain": [
       "<Figure size 432x288 with 1 Axes>"
      ]
     },
     "metadata": {
      "needs_background": "light"
     },
     "output_type": "display_data"
    }
   ],
   "source": [
    "import matplotlib.pylab as plt\n",
    "import seaborn as sns\n",
    "df_train.Sex = df_train.Sex.replace('female',0)\n",
    "df_train.Sex = df_train.Sex.replace('male',1)\n",
    "df_train.head()\n",
    "sns.countplot(x=\"Sex\", hue=\"Survived\", data=df_train)"
   ]
  },
  {
   "cell_type": "code",
   "execution_count": 7,
   "id": "ad6773cb",
   "metadata": {
    "execution": {
     "iopub.execute_input": "2021-12-31T16:17:00.829690Z",
     "iopub.status.busy": "2021-12-31T16:17:00.829041Z",
     "iopub.status.idle": "2021-12-31T16:17:00.839648Z",
     "shell.execute_reply": "2021-12-31T16:17:00.839066Z",
     "shell.execute_reply.started": "2021-12-31T15:57:36.090631Z"
    },
    "papermill": {
     "duration": 0.035906,
     "end_time": "2021-12-31T16:17:00.839781",
     "exception": false,
     "start_time": "2021-12-31T16:17:00.803875",
     "status": "completed"
    },
    "tags": []
   },
   "outputs": [
    {
     "data": {
      "text/plain": [
       "Sex\n",
       "0    233\n",
       "Name: Survived, dtype: int64"
      ]
     },
     "execution_count": 7,
     "metadata": {},
     "output_type": "execute_result"
    }
   ],
   "source": [
    "df_train[(df_train.Survived == 1)].groupby('Sex').count().iloc[:1,1]\n",
    "#0 = female\n",
    "#1 = male"
   ]
  },
  {
   "cell_type": "code",
   "execution_count": 8,
   "id": "4f3262fa",
   "metadata": {
    "execution": {
     "iopub.execute_input": "2021-12-31T16:17:00.888935Z",
     "iopub.status.busy": "2021-12-31T16:17:00.888377Z",
     "iopub.status.idle": "2021-12-31T16:17:00.904072Z",
     "shell.execute_reply": "2021-12-31T16:17:00.904613Z",
     "shell.execute_reply.started": "2021-12-31T15:57:37.811777Z"
    },
    "papermill": {
     "duration": 0.042242,
     "end_time": "2021-12-31T16:17:00.904787",
     "exception": false,
     "start_time": "2021-12-31T16:17:00.862545",
     "status": "completed"
    },
    "tags": []
   },
   "outputs": [
    {
     "data": {
      "text/html": [
       "<div>\n",
       "<style scoped>\n",
       "    .dataframe tbody tr th:only-of-type {\n",
       "        vertical-align: middle;\n",
       "    }\n",
       "\n",
       "    .dataframe tbody tr th {\n",
       "        vertical-align: top;\n",
       "    }\n",
       "\n",
       "    .dataframe thead th {\n",
       "        text-align: right;\n",
       "    }\n",
       "</style>\n",
       "<table border=\"1\" class=\"dataframe\">\n",
       "  <thead>\n",
       "    <tr style=\"text-align: right;\">\n",
       "      <th></th>\n",
       "      <th>PassengerId</th>\n",
       "      <th>Pclass</th>\n",
       "      <th>Name</th>\n",
       "      <th>Sex</th>\n",
       "      <th>Age</th>\n",
       "      <th>SibSp</th>\n",
       "      <th>Parch</th>\n",
       "      <th>Ticket</th>\n",
       "      <th>Fare</th>\n",
       "      <th>Cabin</th>\n",
       "      <th>Embarked</th>\n",
       "    </tr>\n",
       "  </thead>\n",
       "  <tbody>\n",
       "    <tr>\n",
       "      <th>0</th>\n",
       "      <td>892</td>\n",
       "      <td>3</td>\n",
       "      <td>Kelly, Mr. James</td>\n",
       "      <td>1</td>\n",
       "      <td>34.5</td>\n",
       "      <td>0</td>\n",
       "      <td>0</td>\n",
       "      <td>330911</td>\n",
       "      <td>7.8292</td>\n",
       "      <td>NaN</td>\n",
       "      <td>Q</td>\n",
       "    </tr>\n",
       "    <tr>\n",
       "      <th>1</th>\n",
       "      <td>893</td>\n",
       "      <td>3</td>\n",
       "      <td>Wilkes, Mrs. James (Ellen Needs)</td>\n",
       "      <td>0</td>\n",
       "      <td>47.0</td>\n",
       "      <td>1</td>\n",
       "      <td>0</td>\n",
       "      <td>363272</td>\n",
       "      <td>7.0000</td>\n",
       "      <td>NaN</td>\n",
       "      <td>S</td>\n",
       "    </tr>\n",
       "    <tr>\n",
       "      <th>2</th>\n",
       "      <td>894</td>\n",
       "      <td>2</td>\n",
       "      <td>Myles, Mr. Thomas Francis</td>\n",
       "      <td>1</td>\n",
       "      <td>62.0</td>\n",
       "      <td>0</td>\n",
       "      <td>0</td>\n",
       "      <td>240276</td>\n",
       "      <td>9.6875</td>\n",
       "      <td>NaN</td>\n",
       "      <td>Q</td>\n",
       "    </tr>\n",
       "    <tr>\n",
       "      <th>3</th>\n",
       "      <td>895</td>\n",
       "      <td>3</td>\n",
       "      <td>Wirz, Mr. Albert</td>\n",
       "      <td>1</td>\n",
       "      <td>27.0</td>\n",
       "      <td>0</td>\n",
       "      <td>0</td>\n",
       "      <td>315154</td>\n",
       "      <td>8.6625</td>\n",
       "      <td>NaN</td>\n",
       "      <td>S</td>\n",
       "    </tr>\n",
       "    <tr>\n",
       "      <th>4</th>\n",
       "      <td>896</td>\n",
       "      <td>3</td>\n",
       "      <td>Hirvonen, Mrs. Alexander (Helga E Lindqvist)</td>\n",
       "      <td>0</td>\n",
       "      <td>22.0</td>\n",
       "      <td>1</td>\n",
       "      <td>1</td>\n",
       "      <td>3101298</td>\n",
       "      <td>12.2875</td>\n",
       "      <td>NaN</td>\n",
       "      <td>S</td>\n",
       "    </tr>\n",
       "  </tbody>\n",
       "</table>\n",
       "</div>"
      ],
      "text/plain": [
       "   PassengerId  Pclass                                          Name  Sex  \\\n",
       "0          892       3                              Kelly, Mr. James    1   \n",
       "1          893       3              Wilkes, Mrs. James (Ellen Needs)    0   \n",
       "2          894       2                     Myles, Mr. Thomas Francis    1   \n",
       "3          895       3                              Wirz, Mr. Albert    1   \n",
       "4          896       3  Hirvonen, Mrs. Alexander (Helga E Lindqvist)    0   \n",
       "\n",
       "    Age  SibSp  Parch   Ticket     Fare Cabin Embarked  \n",
       "0  34.5      0      0   330911   7.8292   NaN        Q  \n",
       "1  47.0      1      0   363272   7.0000   NaN        S  \n",
       "2  62.0      0      0   240276   9.6875   NaN        Q  \n",
       "3  27.0      0      0   315154   8.6625   NaN        S  \n",
       "4  22.0      1      1  3101298  12.2875   NaN        S  "
      ]
     },
     "execution_count": 8,
     "metadata": {},
     "output_type": "execute_result"
    }
   ],
   "source": [
    "df_test.Sex = df_test.Sex.replace('female',0)\n",
    "df_test.Sex = df_test.Sex.replace('male',1)\n",
    "df_test.head()"
   ]
  },
  {
   "cell_type": "code",
   "execution_count": 9,
   "id": "ba5bb4c7",
   "metadata": {
    "execution": {
     "iopub.execute_input": "2021-12-31T16:17:00.971964Z",
     "iopub.status.busy": "2021-12-31T16:17:00.954280Z",
     "iopub.status.idle": "2021-12-31T16:17:00.975242Z",
     "shell.execute_reply": "2021-12-31T16:17:00.975680Z",
     "shell.execute_reply.started": "2021-12-31T15:57:39.918430Z"
    },
    "papermill": {
     "duration": 0.047948,
     "end_time": "2021-12-31T16:17:00.975846",
     "exception": false,
     "start_time": "2021-12-31T16:17:00.927898",
     "status": "completed"
    },
    "tags": []
   },
   "outputs": [
    {
     "data": {
      "text/html": [
       "<div>\n",
       "<style scoped>\n",
       "    .dataframe tbody tr th:only-of-type {\n",
       "        vertical-align: middle;\n",
       "    }\n",
       "\n",
       "    .dataframe tbody tr th {\n",
       "        vertical-align: top;\n",
       "    }\n",
       "\n",
       "    .dataframe thead th {\n",
       "        text-align: right;\n",
       "    }\n",
       "</style>\n",
       "<table border=\"1\" class=\"dataframe\">\n",
       "  <thead>\n",
       "    <tr style=\"text-align: right;\">\n",
       "      <th></th>\n",
       "      <th>Pclass</th>\n",
       "      <th>Sex</th>\n",
       "      <th>SibSp</th>\n",
       "      <th>Parch</th>\n",
       "    </tr>\n",
       "  </thead>\n",
       "  <tbody>\n",
       "    <tr>\n",
       "      <th>0</th>\n",
       "      <td>3</td>\n",
       "      <td>1</td>\n",
       "      <td>1</td>\n",
       "      <td>0</td>\n",
       "    </tr>\n",
       "    <tr>\n",
       "      <th>1</th>\n",
       "      <td>1</td>\n",
       "      <td>0</td>\n",
       "      <td>1</td>\n",
       "      <td>0</td>\n",
       "    </tr>\n",
       "    <tr>\n",
       "      <th>2</th>\n",
       "      <td>3</td>\n",
       "      <td>0</td>\n",
       "      <td>0</td>\n",
       "      <td>0</td>\n",
       "    </tr>\n",
       "    <tr>\n",
       "      <th>3</th>\n",
       "      <td>1</td>\n",
       "      <td>0</td>\n",
       "      <td>1</td>\n",
       "      <td>0</td>\n",
       "    </tr>\n",
       "    <tr>\n",
       "      <th>4</th>\n",
       "      <td>3</td>\n",
       "      <td>1</td>\n",
       "      <td>0</td>\n",
       "      <td>0</td>\n",
       "    </tr>\n",
       "    <tr>\n",
       "      <th>...</th>\n",
       "      <td>...</td>\n",
       "      <td>...</td>\n",
       "      <td>...</td>\n",
       "      <td>...</td>\n",
       "    </tr>\n",
       "    <tr>\n",
       "      <th>886</th>\n",
       "      <td>2</td>\n",
       "      <td>1</td>\n",
       "      <td>0</td>\n",
       "      <td>0</td>\n",
       "    </tr>\n",
       "    <tr>\n",
       "      <th>887</th>\n",
       "      <td>1</td>\n",
       "      <td>0</td>\n",
       "      <td>0</td>\n",
       "      <td>0</td>\n",
       "    </tr>\n",
       "    <tr>\n",
       "      <th>888</th>\n",
       "      <td>3</td>\n",
       "      <td>0</td>\n",
       "      <td>1</td>\n",
       "      <td>2</td>\n",
       "    </tr>\n",
       "    <tr>\n",
       "      <th>889</th>\n",
       "      <td>1</td>\n",
       "      <td>1</td>\n",
       "      <td>0</td>\n",
       "      <td>0</td>\n",
       "    </tr>\n",
       "    <tr>\n",
       "      <th>890</th>\n",
       "      <td>3</td>\n",
       "      <td>1</td>\n",
       "      <td>0</td>\n",
       "      <td>0</td>\n",
       "    </tr>\n",
       "  </tbody>\n",
       "</table>\n",
       "<p>891 rows × 4 columns</p>\n",
       "</div>"
      ],
      "text/plain": [
       "     Pclass  Sex  SibSp  Parch\n",
       "0         3    1      1      0\n",
       "1         1    0      1      0\n",
       "2         3    0      0      0\n",
       "3         1    0      1      0\n",
       "4         3    1      0      0\n",
       "..      ...  ...    ...    ...\n",
       "886       2    1      0      0\n",
       "887       1    0      0      0\n",
       "888       3    0      1      2\n",
       "889       1    1      0      0\n",
       "890       3    1      0      0\n",
       "\n",
       "[891 rows x 4 columns]"
      ]
     },
     "execution_count": 9,
     "metadata": {},
     "output_type": "execute_result"
    }
   ],
   "source": [
    "y_train = df_train[\"Survived\"]\n",
    "features = [\"Pclass\", \"Sex\", \"SibSp\", \"Parch\"]\n",
    "X_train = pd.get_dummies(df_train[features])\n",
    "X_test = pd.get_dummies(df_test[features])\n",
    "X_train"
   ]
  },
  {
   "cell_type": "code",
   "execution_count": 10,
   "id": "8859b485",
   "metadata": {
    "execution": {
     "iopub.execute_input": "2021-12-31T16:17:01.032353Z",
     "iopub.status.busy": "2021-12-31T16:17:01.031685Z",
     "iopub.status.idle": "2021-12-31T16:17:01.298326Z",
     "shell.execute_reply": "2021-12-31T16:17:01.297819Z",
     "shell.execute_reply.started": "2021-12-31T15:57:42.080068Z"
    },
    "papermill": {
     "duration": 0.295831,
     "end_time": "2021-12-31T16:17:01.298471",
     "exception": false,
     "start_time": "2021-12-31T16:17:01.002640",
     "status": "completed"
    },
    "tags": []
   },
   "outputs": [],
   "source": [
    "from sklearn.linear_model import LogisticRegression\n",
    "model = LogisticRegression(solver='liblinear')\n",
    "model.fit(X_train, y_train)\n",
    "predictions = model.predict(X_test)"
   ]
  },
  {
   "cell_type": "code",
   "execution_count": 11,
   "id": "28de5990",
   "metadata": {
    "execution": {
     "iopub.execute_input": "2021-12-31T16:17:01.358362Z",
     "iopub.status.busy": "2021-12-31T16:17:01.357717Z",
     "iopub.status.idle": "2021-12-31T16:17:01.360945Z",
     "shell.execute_reply": "2021-12-31T16:17:01.361714Z",
     "shell.execute_reply.started": "2021-12-31T15:57:43.642087Z"
    },
    "papermill": {
     "duration": 0.039874,
     "end_time": "2021-12-31T16:17:01.361922",
     "exception": false,
     "start_time": "2021-12-31T16:17:01.322048",
     "status": "completed"
    },
    "tags": []
   },
   "outputs": [
    {
     "data": {
      "text/html": [
       "<div>\n",
       "<style scoped>\n",
       "    .dataframe tbody tr th:only-of-type {\n",
       "        vertical-align: middle;\n",
       "    }\n",
       "\n",
       "    .dataframe tbody tr th {\n",
       "        vertical-align: top;\n",
       "    }\n",
       "\n",
       "    .dataframe thead th {\n",
       "        text-align: right;\n",
       "    }\n",
       "</style>\n",
       "<table border=\"1\" class=\"dataframe\">\n",
       "  <thead>\n",
       "    <tr style=\"text-align: right;\">\n",
       "      <th></th>\n",
       "      <th>PassengerId</th>\n",
       "      <th>Survived</th>\n",
       "    </tr>\n",
       "  </thead>\n",
       "  <tbody>\n",
       "    <tr>\n",
       "      <th>0</th>\n",
       "      <td>892</td>\n",
       "      <td>0</td>\n",
       "    </tr>\n",
       "    <tr>\n",
       "      <th>1</th>\n",
       "      <td>893</td>\n",
       "      <td>1</td>\n",
       "    </tr>\n",
       "    <tr>\n",
       "      <th>2</th>\n",
       "      <td>894</td>\n",
       "      <td>0</td>\n",
       "    </tr>\n",
       "    <tr>\n",
       "      <th>3</th>\n",
       "      <td>895</td>\n",
       "      <td>0</td>\n",
       "    </tr>\n",
       "    <tr>\n",
       "      <th>4</th>\n",
       "      <td>896</td>\n",
       "      <td>1</td>\n",
       "    </tr>\n",
       "    <tr>\n",
       "      <th>...</th>\n",
       "      <td>...</td>\n",
       "      <td>...</td>\n",
       "    </tr>\n",
       "    <tr>\n",
       "      <th>413</th>\n",
       "      <td>1305</td>\n",
       "      <td>0</td>\n",
       "    </tr>\n",
       "    <tr>\n",
       "      <th>414</th>\n",
       "      <td>1306</td>\n",
       "      <td>1</td>\n",
       "    </tr>\n",
       "    <tr>\n",
       "      <th>415</th>\n",
       "      <td>1307</td>\n",
       "      <td>0</td>\n",
       "    </tr>\n",
       "    <tr>\n",
       "      <th>416</th>\n",
       "      <td>1308</td>\n",
       "      <td>0</td>\n",
       "    </tr>\n",
       "    <tr>\n",
       "      <th>417</th>\n",
       "      <td>1309</td>\n",
       "      <td>0</td>\n",
       "    </tr>\n",
       "  </tbody>\n",
       "</table>\n",
       "<p>418 rows × 2 columns</p>\n",
       "</div>"
      ],
      "text/plain": [
       "     PassengerId  Survived\n",
       "0            892         0\n",
       "1            893         1\n",
       "2            894         0\n",
       "3            895         0\n",
       "4            896         1\n",
       "..           ...       ...\n",
       "413         1305         0\n",
       "414         1306         1\n",
       "415         1307         0\n",
       "416         1308         0\n",
       "417         1309         0\n",
       "\n",
       "[418 rows x 2 columns]"
      ]
     },
     "execution_count": 11,
     "metadata": {},
     "output_type": "execute_result"
    }
   ],
   "source": [
    "output = pd.DataFrame({'PassengerId': df_test.PassengerId, 'Survived': predictions})\n",
    "output"
   ]
  },
  {
   "cell_type": "markdown",
   "id": "241233a5",
   "metadata": {
    "papermill": {
     "duration": 0.028955,
     "end_time": "2021-12-31T16:17:01.416545",
     "exception": false,
     "start_time": "2021-12-31T16:17:01.387590",
     "status": "completed"
    },
    "tags": []
   },
   "source": [
    "# GridsearchCV"
   ]
  },
  {
   "cell_type": "code",
   "execution_count": 12,
   "id": "bfbb2e55",
   "metadata": {
    "execution": {
     "iopub.execute_input": "2021-12-31T16:17:01.471722Z",
     "iopub.status.busy": "2021-12-31T16:17:01.471015Z",
     "iopub.status.idle": "2021-12-31T16:17:01.536228Z",
     "shell.execute_reply": "2021-12-31T16:17:01.536674Z",
     "shell.execute_reply.started": "2021-12-31T15:59:24.715215Z"
    },
    "papermill": {
     "duration": 0.095654,
     "end_time": "2021-12-31T16:17:01.536839",
     "exception": false,
     "start_time": "2021-12-31T16:17:01.441185",
     "status": "completed"
    },
    "tags": []
   },
   "outputs": [],
   "source": [
    "from sklearn.model_selection import GridSearchCV\n",
    "from sklearn.neighbors import KNeighborsRegressor\n",
    "from sklearn.linear_model import LinearRegression\n",
    "from sklearn.preprocessing import StandardScaler\n",
    "from sklearn.pipeline import Pipeline"
   ]
  },
  {
   "cell_type": "code",
   "execution_count": 13,
   "id": "d0164617",
   "metadata": {
    "execution": {
     "iopub.execute_input": "2021-12-31T16:17:01.588511Z",
     "iopub.status.busy": "2021-12-31T16:17:01.587889Z",
     "iopub.status.idle": "2021-12-31T16:17:01.596669Z",
     "shell.execute_reply": "2021-12-31T16:17:01.597275Z",
     "shell.execute_reply.started": "2021-12-31T15:59:28.371681Z"
    },
    "papermill": {
     "duration": 0.036204,
     "end_time": "2021-12-31T16:17:01.597456",
     "exception": false,
     "start_time": "2021-12-31T16:17:01.561252",
     "status": "completed"
    },
    "tags": []
   },
   "outputs": [
    {
     "data": {
      "text/plain": [
       "{'memory': None,\n",
       " 'steps': [('scale', StandardScaler()),\n",
       "  ('model', KNeighborsRegressor(n_neighbors=1))],\n",
       " 'verbose': False,\n",
       " 'scale': StandardScaler(),\n",
       " 'model': KNeighborsRegressor(n_neighbors=1),\n",
       " 'scale__copy': True,\n",
       " 'scale__with_mean': True,\n",
       " 'scale__with_std': True,\n",
       " 'model__algorithm': 'auto',\n",
       " 'model__leaf_size': 30,\n",
       " 'model__metric': 'minkowski',\n",
       " 'model__metric_params': None,\n",
       " 'model__n_jobs': None,\n",
       " 'model__n_neighbors': 1,\n",
       " 'model__p': 2,\n",
       " 'model__weights': 'uniform'}"
      ]
     },
     "execution_count": 13,
     "metadata": {},
     "output_type": "execute_result"
    }
   ],
   "source": [
    "pipe = Pipeline([(\"scale\", StandardScaler()),\n",
    "                (\"model\", KNeighborsRegressor(n_neighbors=1))\n",
    "                ])\n",
    "pipe.get_params()"
   ]
  },
  {
   "cell_type": "code",
   "execution_count": 14,
   "id": "bf9dc67a",
   "metadata": {
    "execution": {
     "iopub.execute_input": "2021-12-31T16:17:01.653040Z",
     "iopub.status.busy": "2021-12-31T16:17:01.652405Z",
     "iopub.status.idle": "2021-12-31T16:17:01.656448Z",
     "shell.execute_reply": "2021-12-31T16:17:01.656944Z",
     "shell.execute_reply.started": "2021-12-31T15:59:31.805763Z"
    },
    "papermill": {
     "duration": 0.034318,
     "end_time": "2021-12-31T16:17:01.657125",
     "exception": false,
     "start_time": "2021-12-31T16:17:01.622807",
     "status": "completed"
    },
    "tags": []
   },
   "outputs": [],
   "source": [
    "model = GridSearchCV(estimator=pipe,\n",
    "             param_grid= {'model__n_neighbors' : [1, 2, 3, 4, 5, 6, 7, 8, 9, 10]}, #it will present all the setting we would like to trogh on pipleine\n",
    "             cv=3)"
   ]
  },
  {
   "cell_type": "code",
   "execution_count": 15,
   "id": "6a627be9",
   "metadata": {
    "execution": {
     "iopub.execute_input": "2021-12-31T16:17:01.713202Z",
     "iopub.status.busy": "2021-12-31T16:17:01.712586Z",
     "iopub.status.idle": "2021-12-31T16:17:01.982505Z",
     "shell.execute_reply": "2021-12-31T16:17:01.983007Z",
     "shell.execute_reply.started": "2021-12-31T16:00:09.598257Z"
    },
    "papermill": {
     "duration": 0.299379,
     "end_time": "2021-12-31T16:17:01.983251",
     "exception": false,
     "start_time": "2021-12-31T16:17:01.683872",
     "status": "completed"
    },
    "tags": []
   },
   "outputs": [
    {
     "data": {
      "text/plain": [
       "{'mean_fit_time': array([0.0044864 , 0.00384744, 0.00383377, 0.0037787 , 0.00377409,\n",
       "        0.00386818, 0.00414356, 0.00401767, 0.00398437, 0.00407958]),\n",
       " 'std_fit_time': array([9.69952113e-04, 1.19533786e-04, 9.75851642e-05, 9.99837432e-05,\n",
       "        6.50797809e-05, 1.49362765e-04, 1.42258772e-04, 1.78296116e-04,\n",
       "        1.02802437e-04, 1.44462511e-04]),\n",
       " 'mean_score_time': array([0.00336083, 0.00313791, 0.00321086, 0.00341225, 0.00325298,\n",
       "        0.00346605, 0.00374373, 0.00357286, 0.00355736, 0.00380349]),\n",
       " 'std_score_time': array([3.25400360e-05, 1.11193636e-04, 5.89346851e-05, 2.11758652e-04,\n",
       "        3.27152225e-05, 2.61930296e-05, 3.00269709e-04, 7.41238552e-05,\n",
       "        4.41073655e-05, 2.88878587e-04]),\n",
       " 'param_model__n_neighbors': masked_array(data=[1, 2, 3, 4, 5, 6, 7, 8, 9, 10],\n",
       "              mask=[False, False, False, False, False, False, False, False,\n",
       "                    False, False],\n",
       "        fill_value='?',\n",
       "             dtype=object),\n",
       " 'params': [{'model__n_neighbors': 1},\n",
       "  {'model__n_neighbors': 2},\n",
       "  {'model__n_neighbors': 3},\n",
       "  {'model__n_neighbors': 4},\n",
       "  {'model__n_neighbors': 5},\n",
       "  {'model__n_neighbors': 6},\n",
       "  {'model__n_neighbors': 7},\n",
       "  {'model__n_neighbors': 8},\n",
       "  {'model__n_neighbors': 9},\n",
       "  {'model__n_neighbors': 10}],\n",
       " 'split0_test_score': array([0.06114788, 0.01713919, 0.05299812, 0.19500766, 0.23776944,\n",
       "        0.28974859, 0.31352426, 0.30800914, 0.29567981, 0.29468735]),\n",
       " 'split1_test_score': array([0.0801128 , 0.28262528, 0.3638591 , 0.37701669, 0.37392751,\n",
       "        0.40581084, 0.38889004, 0.40040002, 0.40928563, 0.41511649]),\n",
       " 'split2_test_score': array([-0.26587302,  0.18518519,  0.29512052,  0.37251984,  0.36619048,\n",
       "         0.39010141,  0.40492387,  0.40071098,  0.39553531,  0.39267196]),\n",
       " 'mean_test_score': array([-0.04153745,  0.16164988,  0.23732591,  0.31484806,  0.32596248,\n",
       "         0.36188695,  0.36911273,  0.36970671,  0.36683358,  0.36749193]),\n",
       " 'std_test_score': array([0.15881804, 0.10965445, 0.13332616, 0.08475985, 0.06244184,\n",
       "        0.05141111, 0.03984829, 0.04362695, 0.0506255 , 0.05228971]),\n",
       " 'rank_test_score': array([10,  9,  8,  7,  6,  5,  2,  1,  4,  3], dtype=int32)}"
      ]
     },
     "execution_count": 15,
     "metadata": {},
     "output_type": "execute_result"
    }
   ],
   "source": [
    "model.fit(X_train, y_train);\n",
    "model.cv_results_ "
   ]
  },
  {
   "cell_type": "code",
   "execution_count": 16,
   "id": "6d97300d",
   "metadata": {
    "execution": {
     "iopub.execute_input": "2021-12-31T16:17:02.038027Z",
     "iopub.status.busy": "2021-12-31T16:17:02.037463Z",
     "iopub.status.idle": "2021-12-31T16:17:02.061240Z",
     "shell.execute_reply": "2021-12-31T16:17:02.061778Z",
     "shell.execute_reply.started": "2021-12-31T16:00:20.125197Z"
    },
    "papermill": {
     "duration": 0.052311,
     "end_time": "2021-12-31T16:17:02.061955",
     "exception": false,
     "start_time": "2021-12-31T16:17:02.009644",
     "status": "completed"
    },
    "tags": []
   },
   "outputs": [
    {
     "data": {
      "text/html": [
       "<div>\n",
       "<style scoped>\n",
       "    .dataframe tbody tr th:only-of-type {\n",
       "        vertical-align: middle;\n",
       "    }\n",
       "\n",
       "    .dataframe tbody tr th {\n",
       "        vertical-align: top;\n",
       "    }\n",
       "\n",
       "    .dataframe thead th {\n",
       "        text-align: right;\n",
       "    }\n",
       "</style>\n",
       "<table border=\"1\" class=\"dataframe\">\n",
       "  <thead>\n",
       "    <tr style=\"text-align: right;\">\n",
       "      <th></th>\n",
       "      <th>mean_fit_time</th>\n",
       "      <th>std_fit_time</th>\n",
       "      <th>mean_score_time</th>\n",
       "      <th>std_score_time</th>\n",
       "      <th>param_model__n_neighbors</th>\n",
       "      <th>params</th>\n",
       "      <th>split0_test_score</th>\n",
       "      <th>split1_test_score</th>\n",
       "      <th>split2_test_score</th>\n",
       "      <th>mean_test_score</th>\n",
       "      <th>std_test_score</th>\n",
       "      <th>rank_test_score</th>\n",
       "    </tr>\n",
       "  </thead>\n",
       "  <tbody>\n",
       "    <tr>\n",
       "      <th>0</th>\n",
       "      <td>0.004486</td>\n",
       "      <td>0.000970</td>\n",
       "      <td>0.003361</td>\n",
       "      <td>0.000033</td>\n",
       "      <td>1</td>\n",
       "      <td>{'model__n_neighbors': 1}</td>\n",
       "      <td>0.061148</td>\n",
       "      <td>0.080113</td>\n",
       "      <td>-0.265873</td>\n",
       "      <td>-0.041537</td>\n",
       "      <td>0.158818</td>\n",
       "      <td>10</td>\n",
       "    </tr>\n",
       "    <tr>\n",
       "      <th>1</th>\n",
       "      <td>0.003847</td>\n",
       "      <td>0.000120</td>\n",
       "      <td>0.003138</td>\n",
       "      <td>0.000111</td>\n",
       "      <td>2</td>\n",
       "      <td>{'model__n_neighbors': 2}</td>\n",
       "      <td>0.017139</td>\n",
       "      <td>0.282625</td>\n",
       "      <td>0.185185</td>\n",
       "      <td>0.161650</td>\n",
       "      <td>0.109654</td>\n",
       "      <td>9</td>\n",
       "    </tr>\n",
       "    <tr>\n",
       "      <th>2</th>\n",
       "      <td>0.003834</td>\n",
       "      <td>0.000098</td>\n",
       "      <td>0.003211</td>\n",
       "      <td>0.000059</td>\n",
       "      <td>3</td>\n",
       "      <td>{'model__n_neighbors': 3}</td>\n",
       "      <td>0.052998</td>\n",
       "      <td>0.363859</td>\n",
       "      <td>0.295121</td>\n",
       "      <td>0.237326</td>\n",
       "      <td>0.133326</td>\n",
       "      <td>8</td>\n",
       "    </tr>\n",
       "    <tr>\n",
       "      <th>3</th>\n",
       "      <td>0.003779</td>\n",
       "      <td>0.000100</td>\n",
       "      <td>0.003412</td>\n",
       "      <td>0.000212</td>\n",
       "      <td>4</td>\n",
       "      <td>{'model__n_neighbors': 4}</td>\n",
       "      <td>0.195008</td>\n",
       "      <td>0.377017</td>\n",
       "      <td>0.372520</td>\n",
       "      <td>0.314848</td>\n",
       "      <td>0.084760</td>\n",
       "      <td>7</td>\n",
       "    </tr>\n",
       "    <tr>\n",
       "      <th>4</th>\n",
       "      <td>0.003774</td>\n",
       "      <td>0.000065</td>\n",
       "      <td>0.003253</td>\n",
       "      <td>0.000033</td>\n",
       "      <td>5</td>\n",
       "      <td>{'model__n_neighbors': 5}</td>\n",
       "      <td>0.237769</td>\n",
       "      <td>0.373928</td>\n",
       "      <td>0.366190</td>\n",
       "      <td>0.325962</td>\n",
       "      <td>0.062442</td>\n",
       "      <td>6</td>\n",
       "    </tr>\n",
       "    <tr>\n",
       "      <th>5</th>\n",
       "      <td>0.003868</td>\n",
       "      <td>0.000149</td>\n",
       "      <td>0.003466</td>\n",
       "      <td>0.000026</td>\n",
       "      <td>6</td>\n",
       "      <td>{'model__n_neighbors': 6}</td>\n",
       "      <td>0.289749</td>\n",
       "      <td>0.405811</td>\n",
       "      <td>0.390101</td>\n",
       "      <td>0.361887</td>\n",
       "      <td>0.051411</td>\n",
       "      <td>5</td>\n",
       "    </tr>\n",
       "    <tr>\n",
       "      <th>6</th>\n",
       "      <td>0.004144</td>\n",
       "      <td>0.000142</td>\n",
       "      <td>0.003744</td>\n",
       "      <td>0.000300</td>\n",
       "      <td>7</td>\n",
       "      <td>{'model__n_neighbors': 7}</td>\n",
       "      <td>0.313524</td>\n",
       "      <td>0.388890</td>\n",
       "      <td>0.404924</td>\n",
       "      <td>0.369113</td>\n",
       "      <td>0.039848</td>\n",
       "      <td>2</td>\n",
       "    </tr>\n",
       "    <tr>\n",
       "      <th>7</th>\n",
       "      <td>0.004018</td>\n",
       "      <td>0.000178</td>\n",
       "      <td>0.003573</td>\n",
       "      <td>0.000074</td>\n",
       "      <td>8</td>\n",
       "      <td>{'model__n_neighbors': 8}</td>\n",
       "      <td>0.308009</td>\n",
       "      <td>0.400400</td>\n",
       "      <td>0.400711</td>\n",
       "      <td>0.369707</td>\n",
       "      <td>0.043627</td>\n",
       "      <td>1</td>\n",
       "    </tr>\n",
       "    <tr>\n",
       "      <th>8</th>\n",
       "      <td>0.003984</td>\n",
       "      <td>0.000103</td>\n",
       "      <td>0.003557</td>\n",
       "      <td>0.000044</td>\n",
       "      <td>9</td>\n",
       "      <td>{'model__n_neighbors': 9}</td>\n",
       "      <td>0.295680</td>\n",
       "      <td>0.409286</td>\n",
       "      <td>0.395535</td>\n",
       "      <td>0.366834</td>\n",
       "      <td>0.050626</td>\n",
       "      <td>4</td>\n",
       "    </tr>\n",
       "    <tr>\n",
       "      <th>9</th>\n",
       "      <td>0.004080</td>\n",
       "      <td>0.000144</td>\n",
       "      <td>0.003803</td>\n",
       "      <td>0.000289</td>\n",
       "      <td>10</td>\n",
       "      <td>{'model__n_neighbors': 10}</td>\n",
       "      <td>0.294687</td>\n",
       "      <td>0.415116</td>\n",
       "      <td>0.392672</td>\n",
       "      <td>0.367492</td>\n",
       "      <td>0.052290</td>\n",
       "      <td>3</td>\n",
       "    </tr>\n",
       "  </tbody>\n",
       "</table>\n",
       "</div>"
      ],
      "text/plain": [
       "   mean_fit_time  std_fit_time  mean_score_time  std_score_time  \\\n",
       "0       0.004486      0.000970         0.003361        0.000033   \n",
       "1       0.003847      0.000120         0.003138        0.000111   \n",
       "2       0.003834      0.000098         0.003211        0.000059   \n",
       "3       0.003779      0.000100         0.003412        0.000212   \n",
       "4       0.003774      0.000065         0.003253        0.000033   \n",
       "5       0.003868      0.000149         0.003466        0.000026   \n",
       "6       0.004144      0.000142         0.003744        0.000300   \n",
       "7       0.004018      0.000178         0.003573        0.000074   \n",
       "8       0.003984      0.000103         0.003557        0.000044   \n",
       "9       0.004080      0.000144         0.003803        0.000289   \n",
       "\n",
       "  param_model__n_neighbors                      params  split0_test_score  \\\n",
       "0                        1   {'model__n_neighbors': 1}           0.061148   \n",
       "1                        2   {'model__n_neighbors': 2}           0.017139   \n",
       "2                        3   {'model__n_neighbors': 3}           0.052998   \n",
       "3                        4   {'model__n_neighbors': 4}           0.195008   \n",
       "4                        5   {'model__n_neighbors': 5}           0.237769   \n",
       "5                        6   {'model__n_neighbors': 6}           0.289749   \n",
       "6                        7   {'model__n_neighbors': 7}           0.313524   \n",
       "7                        8   {'model__n_neighbors': 8}           0.308009   \n",
       "8                        9   {'model__n_neighbors': 9}           0.295680   \n",
       "9                       10  {'model__n_neighbors': 10}           0.294687   \n",
       "\n",
       "   split1_test_score  split2_test_score  mean_test_score  std_test_score  \\\n",
       "0           0.080113          -0.265873        -0.041537        0.158818   \n",
       "1           0.282625           0.185185         0.161650        0.109654   \n",
       "2           0.363859           0.295121         0.237326        0.133326   \n",
       "3           0.377017           0.372520         0.314848        0.084760   \n",
       "4           0.373928           0.366190         0.325962        0.062442   \n",
       "5           0.405811           0.390101         0.361887        0.051411   \n",
       "6           0.388890           0.404924         0.369113        0.039848   \n",
       "7           0.400400           0.400711         0.369707        0.043627   \n",
       "8           0.409286           0.395535         0.366834        0.050626   \n",
       "9           0.415116           0.392672         0.367492        0.052290   \n",
       "\n",
       "   rank_test_score  \n",
       "0               10  \n",
       "1                9  \n",
       "2                8  \n",
       "3                7  \n",
       "4                6  \n",
       "5                5  \n",
       "6                2  \n",
       "7                1  \n",
       "8                4  \n",
       "9                3  "
      ]
     },
     "execution_count": 16,
     "metadata": {},
     "output_type": "execute_result"
    }
   ],
   "source": [
    "pd.DataFrame(model.cv_results_)"
   ]
  },
  {
   "cell_type": "code",
   "execution_count": 17,
   "id": "96cfe844",
   "metadata": {
    "execution": {
     "iopub.execute_input": "2021-12-31T16:17:02.118457Z",
     "iopub.status.busy": "2021-12-31T16:17:02.117787Z",
     "iopub.status.idle": "2021-12-31T16:17:02.122293Z",
     "shell.execute_reply": "2021-12-31T16:17:02.122857Z",
     "shell.execute_reply.started": "2021-12-31T16:02:41.473349Z"
    },
    "papermill": {
     "duration": 0.034191,
     "end_time": "2021-12-31T16:17:02.123016",
     "exception": false,
     "start_time": "2021-12-31T16:17:02.088825",
     "status": "completed"
    },
    "tags": []
   },
   "outputs": [
    {
     "data": {
      "text/plain": [
       "'Shapes of X=(891, 4) y=(891,), #Survived Cases=342'"
      ]
     },
     "execution_count": 17,
     "metadata": {},
     "output_type": "execute_result"
    }
   ],
   "source": [
    "f\"Shapes of X={X_train.shape} y={y_train.shape}, #Survived Cases={y_train.sum()}\""
   ]
  },
  {
   "cell_type": "code",
   "execution_count": 18,
   "id": "70f9b59a",
   "metadata": {
    "execution": {
     "iopub.execute_input": "2021-12-31T16:17:02.183433Z",
     "iopub.status.busy": "2021-12-31T16:17:02.182417Z",
     "iopub.status.idle": "2021-12-31T16:17:02.197631Z",
     "shell.execute_reply": "2021-12-31T16:17:02.198158Z",
     "shell.execute_reply.started": "2021-12-31T16:05:36.143076Z"
    },
    "papermill": {
     "duration": 0.049256,
     "end_time": "2021-12-31T16:17:02.198329",
     "exception": false,
     "start_time": "2021-12-31T16:17:02.149073",
     "status": "completed"
    },
    "tags": []
   },
   "outputs": [
    {
     "data": {
      "text/plain": [
       "430"
      ]
     },
     "execution_count": 18,
     "metadata": {},
     "output_type": "execute_result"
    }
   ],
   "source": [
    "mod = LogisticRegression(class_weight={0: 1, 1: 2}, max_iter=1000)\n",
    "mod.fit(X_train, y_train).predict(X_train).sum()"
   ]
  },
  {
   "cell_type": "code",
   "execution_count": 19,
   "id": "6246e8c3",
   "metadata": {
    "execution": {
     "iopub.execute_input": "2021-12-31T16:17:02.253401Z",
     "iopub.status.busy": "2021-12-31T16:17:02.252744Z",
     "iopub.status.idle": "2021-12-31T16:17:04.706873Z",
     "shell.execute_reply": "2021-12-31T16:17:04.707492Z",
     "shell.execute_reply.started": "2021-12-31T16:06:07.999006Z"
    },
    "papermill": {
     "duration": 2.483425,
     "end_time": "2021-12-31T16:17:04.707678",
     "exception": false,
     "start_time": "2021-12-31T16:17:02.224253",
     "status": "completed"
    },
    "tags": []
   },
   "outputs": [
    {
     "data": {
      "text/plain": [
       "GridSearchCV(cv=4, estimator=LogisticRegression(max_iter=1000), n_jobs=-1,\n",
       "             param_grid={'class_weight': [{0: 1, 1: 1}, {0: 1, 1: 2},\n",
       "                                          {0: 1, 1: 3}]})"
      ]
     },
     "execution_count": 19,
     "metadata": {},
     "output_type": "execute_result"
    }
   ],
   "source": [
    "grid = GridSearchCV(\n",
    "    estimator = LogisticRegression(max_iter=1000),\n",
    "    param_grid={'class_weight': [{0: 1, 1: v} for v in range(1, 4)]}, #setting to loop over\n",
    "    cv=4,\n",
    "    n_jobs=-1 #this grid search appear a paralel\n",
    ")\n",
    "grid.fit(X_train, y_train)"
   ]
  },
  {
   "cell_type": "code",
   "execution_count": 20,
   "id": "ff65f0e8",
   "metadata": {
    "execution": {
     "iopub.execute_input": "2021-12-31T16:17:04.764688Z",
     "iopub.status.busy": "2021-12-31T16:17:04.764057Z",
     "iopub.status.idle": "2021-12-31T16:17:04.783845Z",
     "shell.execute_reply": "2021-12-31T16:17:04.784433Z",
     "shell.execute_reply.started": "2021-12-31T16:06:43.072764Z"
    },
    "papermill": {
     "duration": 0.050257,
     "end_time": "2021-12-31T16:17:04.784602",
     "exception": false,
     "start_time": "2021-12-31T16:17:04.734345",
     "status": "completed"
    },
    "tags": []
   },
   "outputs": [
    {
     "data": {
      "text/html": [
       "<div>\n",
       "<style scoped>\n",
       "    .dataframe tbody tr th:only-of-type {\n",
       "        vertical-align: middle;\n",
       "    }\n",
       "\n",
       "    .dataframe tbody tr th {\n",
       "        vertical-align: top;\n",
       "    }\n",
       "\n",
       "    .dataframe thead th {\n",
       "        text-align: right;\n",
       "    }\n",
       "</style>\n",
       "<table border=\"1\" class=\"dataframe\">\n",
       "  <thead>\n",
       "    <tr style=\"text-align: right;\">\n",
       "      <th></th>\n",
       "      <th>mean_fit_time</th>\n",
       "      <th>std_fit_time</th>\n",
       "      <th>mean_score_time</th>\n",
       "      <th>std_score_time</th>\n",
       "      <th>param_class_weight</th>\n",
       "      <th>params</th>\n",
       "      <th>split0_test_score</th>\n",
       "      <th>split1_test_score</th>\n",
       "      <th>split2_test_score</th>\n",
       "      <th>split3_test_score</th>\n",
       "      <th>mean_test_score</th>\n",
       "      <th>std_test_score</th>\n",
       "      <th>rank_test_score</th>\n",
       "    </tr>\n",
       "  </thead>\n",
       "  <tbody>\n",
       "    <tr>\n",
       "      <th>0</th>\n",
       "      <td>0.012931</td>\n",
       "      <td>0.001016</td>\n",
       "      <td>0.002696</td>\n",
       "      <td>0.000227</td>\n",
       "      <td>{0: 1, 1: 1}</td>\n",
       "      <td>{'class_weight': {0: 1, 1: 1}}</td>\n",
       "      <td>0.807175</td>\n",
       "      <td>0.820628</td>\n",
       "      <td>0.784753</td>\n",
       "      <td>0.792793</td>\n",
       "      <td>0.801337</td>\n",
       "      <td>0.013732</td>\n",
       "      <td>1</td>\n",
       "    </tr>\n",
       "    <tr>\n",
       "      <th>1</th>\n",
       "      <td>0.010950</td>\n",
       "      <td>0.000883</td>\n",
       "      <td>0.002389</td>\n",
       "      <td>0.000114</td>\n",
       "      <td>{0: 1, 1: 2}</td>\n",
       "      <td>{'class_weight': {0: 1, 1: 2}}</td>\n",
       "      <td>0.730942</td>\n",
       "      <td>0.757848</td>\n",
       "      <td>0.739910</td>\n",
       "      <td>0.779279</td>\n",
       "      <td>0.751995</td>\n",
       "      <td>0.018493</td>\n",
       "      <td>2</td>\n",
       "    </tr>\n",
       "    <tr>\n",
       "      <th>2</th>\n",
       "      <td>0.010575</td>\n",
       "      <td>0.002475</td>\n",
       "      <td>0.001808</td>\n",
       "      <td>0.000371</td>\n",
       "      <td>{0: 1, 1: 3}</td>\n",
       "      <td>{'class_weight': {0: 1, 1: 3}}</td>\n",
       "      <td>0.726457</td>\n",
       "      <td>0.659193</td>\n",
       "      <td>0.748879</td>\n",
       "      <td>0.774775</td>\n",
       "      <td>0.727326</td>\n",
       "      <td>0.042892</td>\n",
       "      <td>3</td>\n",
       "    </tr>\n",
       "  </tbody>\n",
       "</table>\n",
       "</div>"
      ],
      "text/plain": [
       "   mean_fit_time  std_fit_time  mean_score_time  std_score_time  \\\n",
       "0       0.012931      0.001016         0.002696        0.000227   \n",
       "1       0.010950      0.000883         0.002389        0.000114   \n",
       "2       0.010575      0.002475         0.001808        0.000371   \n",
       "\n",
       "  param_class_weight                          params  split0_test_score  \\\n",
       "0       {0: 1, 1: 1}  {'class_weight': {0: 1, 1: 1}}           0.807175   \n",
       "1       {0: 1, 1: 2}  {'class_weight': {0: 1, 1: 2}}           0.730942   \n",
       "2       {0: 1, 1: 3}  {'class_weight': {0: 1, 1: 3}}           0.726457   \n",
       "\n",
       "   split1_test_score  split2_test_score  split3_test_score  mean_test_score  \\\n",
       "0           0.820628           0.784753           0.792793         0.801337   \n",
       "1           0.757848           0.739910           0.779279         0.751995   \n",
       "2           0.659193           0.748879           0.774775         0.727326   \n",
       "\n",
       "   std_test_score  rank_test_score  \n",
       "0        0.013732                1  \n",
       "1        0.018493                2  \n",
       "2        0.042892                3  "
      ]
     },
     "execution_count": 20,
     "metadata": {},
     "output_type": "execute_result"
    }
   ],
   "source": [
    "pd.DataFrame(grid.cv_results_)"
   ]
  },
  {
   "cell_type": "code",
   "execution_count": 21,
   "id": "80d79188",
   "metadata": {
    "execution": {
     "iopub.execute_input": "2021-12-31T16:17:04.842731Z",
     "iopub.status.busy": "2021-12-31T16:17:04.842089Z",
     "iopub.status.idle": "2021-12-31T16:17:04.851044Z",
     "shell.execute_reply": "2021-12-31T16:17:04.851604Z"
    },
    "papermill": {
     "duration": 0.039852,
     "end_time": "2021-12-31T16:17:04.851780",
     "exception": false,
     "start_time": "2021-12-31T16:17:04.811928",
     "status": "completed"
    },
    "tags": []
   },
   "outputs": [
    {
     "data": {
      "text/plain": [
       "0.672514619883041"
      ]
     },
     "execution_count": 21,
     "metadata": {},
     "output_type": "execute_result"
    }
   ],
   "source": [
    "from sklearn.metrics import precision_score, recall_score, make_scorer\n",
    "#recall_score gives that did I get all the froud cases\n",
    "#precision_score gives me that I predict froud ho accurate am i \n",
    "recall_score(y_train, grid.predict(X_train))"
   ]
  },
  {
   "cell_type": "code",
   "execution_count": 22,
   "id": "a8ecadcc",
   "metadata": {
    "execution": {
     "iopub.execute_input": "2021-12-31T16:17:04.914135Z",
     "iopub.status.busy": "2021-12-31T16:17:04.913479Z",
     "iopub.status.idle": "2021-12-31T16:17:04.919725Z",
     "shell.execute_reply": "2021-12-31T16:17:04.920329Z",
     "shell.execute_reply.started": "2021-12-31T16:10:16.759706Z"
    },
    "papermill": {
     "duration": 0.040772,
     "end_time": "2021-12-31T16:17:04.920501",
     "exception": false,
     "start_time": "2021-12-31T16:17:04.879729",
     "status": "completed"
    },
    "tags": []
   },
   "outputs": [
    {
     "data": {
      "text/plain": [
       "0.777027027027027"
      ]
     },
     "execution_count": 22,
     "metadata": {},
     "output_type": "execute_result"
    }
   ],
   "source": [
    "precision_score(y_train, grid.predict(X_train))"
   ]
  },
  {
   "cell_type": "code",
   "execution_count": 23,
   "id": "6919627a",
   "metadata": {
    "execution": {
     "iopub.execute_input": "2021-12-31T16:17:04.981280Z",
     "iopub.status.busy": "2021-12-31T16:17:04.980307Z",
     "iopub.status.idle": "2021-12-31T16:17:04.991092Z",
     "shell.execute_reply": "2021-12-31T16:17:04.991688Z",
     "shell.execute_reply.started": "2021-12-31T16:15:46.548558Z"
    },
    "papermill": {
     "duration": 0.043108,
     "end_time": "2021-12-31T16:17:04.991852",
     "exception": false,
     "start_time": "2021-12-31T16:17:04.948744",
     "status": "completed"
    },
    "tags": []
   },
   "outputs": [
    {
     "name": "stdout",
     "output_type": "stream",
     "text": [
      "Your submission was successfully saved!\n"
     ]
    }
   ],
   "source": [
    "output = pd.DataFrame({'PassengerId': df_test.PassengerId, 'Survived': predictions})\n",
    "output.to_csv('submission.csv', index=False)\n",
    "print(\"Your submission was successfully saved!\")"
   ]
  },
  {
   "cell_type": "code",
   "execution_count": null,
   "id": "6a543b01",
   "metadata": {
    "papermill": {
     "duration": 0.028444,
     "end_time": "2021-12-31T16:17:05.048792",
     "exception": false,
     "start_time": "2021-12-31T16:17:05.020348",
     "status": "completed"
    },
    "tags": []
   },
   "outputs": [],
   "source": []
  }
 ],
 "metadata": {
  "kernelspec": {
   "display_name": "Python 3",
   "language": "python",
   "name": "python3"
  },
  "language_info": {
   "codemirror_mode": {
    "name": "ipython",
    "version": 3
   },
   "file_extension": ".py",
   "mimetype": "text/x-python",
   "name": "python",
   "nbconvert_exporter": "python",
   "pygments_lexer": "ipython3",
   "version": "3.7.12"
  },
  "papermill": {
   "default_parameters": {},
   "duration": 17.196658,
   "end_time": "2021-12-31T16:17:06.089622",
   "environment_variables": {},
   "exception": null,
   "input_path": "__notebook__.ipynb",
   "output_path": "__notebook__.ipynb",
   "parameters": {},
   "start_time": "2021-12-31T16:16:48.892964",
   "version": "2.3.3"
  }
 },
 "nbformat": 4,
 "nbformat_minor": 5
}
